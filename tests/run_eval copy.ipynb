{
 "cells": [
  {
   "cell_type": "code",
   "execution_count": 1,
   "id": "cea1348d",
   "metadata": {},
   "outputs": [],
   "source": [
    "import os\n",
    "import trix"
   ]
  },
  {
   "cell_type": "code",
   "execution_count": 2,
   "id": "5b21862c",
   "metadata": {},
   "outputs": [],
   "source": [
    "def scan_folder(path, filter_file_type = '.json'):\n",
    "    file_names = []\n",
    "    for root, dirs, files in os.walk(path):\n",
    "        for file in files:\n",
    "            file_name = os.path.join(root, file)\n",
    "            if('DS_Store' in file_name):\n",
    "                continue\n",
    "            if(filter_file_type not in file_name):\n",
    "                continue\n",
    "            file_names.append(file_name)\n",
    "    return file_names\n",
    "\n",
    "def get_truth_path(raw_path):\n",
    "    path = raw_path.replace('raw','truths')\n",
    "    path = path.replace('.pdf','.json')\n",
    "    return path\n",
    "\n",
    "def get_file_name(pdf_path):\n",
    "    pdf_file_name = pdf_path.split('/')[-1]\n",
    "    return pdf_file_name "
   ]
  },
  {
   "cell_type": "code",
   "execution_count": 19,
   "id": "14ab874e",
   "metadata": {},
   "outputs": [
    {
     "name": "stdout",
     "output_type": "stream",
     "text": [
      "Invisible Institue Report.pdf\n",
      "perfect match starts...\n",
      "cluster pruning starts...\n",
      "re-clustering starts...\n",
      "Template-based data extraction starts...\n",
      "Gurobi Optimizer version 12.0.0 build v12.0.0rc1 (mac64[arm] - Darwin 23.2.0 23C71)\n",
      "\n",
      "CPU model: Apple M1 Pro\n",
      "Thread count: 10 physical cores, 10 logical processors, using up to 10 threads\n",
      "\n",
      "Optimize a model with 57 rows, 76 columns and 330 nonzeros\n",
      "Model fingerprint: 0x8bc2b191\n",
      "Variable types: 0 continuous, 76 integer (0 binary)\n",
      "Coefficient statistics:\n",
      "  Matrix range     [1e+00, 1e+00]\n",
      "  Objective range  [1e-03, 7e+00]\n",
      "  Bounds range     [0e+00, 0e+00]\n",
      "  RHS range        [1e+00, 1e+00]\n",
      "Found heuristic solution: objective -101.2102574\n",
      "Presolve removed 57 rows and 76 columns\n",
      "Presolve time: 0.00s\n",
      "Presolve: All rows and columns removed\n",
      "\n",
      "Explored 0 nodes (0 simplex iterations) in 0.01 seconds (0.00 work units)\n",
      "Thread count was 1 (of 10 available processors)\n",
      "\n",
      "Solution count 2: -66.0454 -101.21 \n",
      "No other solutions better than -66.0454\n",
      "\n",
      "Optimal solution found (tolerance 1.00e-04)\n",
      "Best objective -6.604540130066e+01, best bound -6.604540130066e+01, gap 0.0000%\n"
     ]
    }
   ],
   "source": [
    "root_path = os.path.abspath(os.path.dirname(os.getcwd()))\n",
    "pdf_folder_path = root_path + '/data/raw'\n",
    "pdfs = scan_folder(pdf_folder_path,'.pdf')\n",
    "\n",
    "for pdf_path in pdfs:\n",
    "    #if a dataset does not have ground truth, skip it\n",
    "    truth_path = get_truth_path(pdf_path)\n",
    "    if 'Invisible' not in truth_path:\n",
    "        continue\n",
    "\n",
    "    if not os.path.exists(truth_path):\n",
    "        continue\n",
    "\n",
    "    print(get_file_name(pdf_path))\n",
    "\n",
    "    #predict fields\n",
    "    trix.key_prediction(pdf_path)\n",
    "    #predict the template and extract data\n",
    "    out_path = trix.get_key_val_path(pdf_path, 'TRIX')\n",
    "    trix.template_based_data_extraction(pdf_path, out_path)"
   ]
  },
  {
   "cell_type": "code",
   "execution_count": 20,
   "id": "ce930d36",
   "metadata": {},
   "outputs": [
    {
     "name": "stdout",
     "output_type": "stream",
     "text": [
      "id_18_28_45_48_51_57_60_70_72_79_81_89_91_92_94_95_97_99_102_105_113_117_118_119_122_125_131_132_137_139_150_v2.pdf\n",
      "precision: 0.813418153662056 recall: 0.9208504761445937\n",
      "id_157.pdf\n",
      "precision: 0.8714164965906319 recall: 0.9039273275875905\n",
      "id_143.pdf\n",
      "precision: 0.9671642727215706 recall: 0.907219512195122\n",
      "id_18_28_45_48_51_57_60_70_72_79_81_89_91_92_94_95_97_99_102_105_113_117_118_119_122_125_131_132_137_139_150_v1.pdf\n",
      "precision: 0.8491433829114198 recall: 0.9372461504391421\n",
      "id_88.pdf\n",
      "precision: 0.8828960989096273 recall: 0.9142123942123943\n",
      "id_59_87.pdf\n",
      "precision: 0.9492998617747109 recall: 0.9240243509111434\n",
      "id_152.pdf\n",
      "precision: 0.8491582491582492 recall: 0.8736462397573207\n",
      "id_14_42.pdf\n",
      "precision: 0.900216049382716 recall: 0.8939715567290238\n",
      "id_12.pdf\n",
      "precision: 0.8548418216356868 recall: 0.8954900013599701\n",
      "id_23_29.pdf\n",
      "precision: 0.8904524045304043 recall: 0.9620253164556962\n",
      "id_133.pdf\n",
      "precision: 0.9146808510638298 recall: 0.8714285714285714\n",
      "id_53_55_64_86.pdf\n",
      "precision: 0.8350387094692759 recall: 0.927493963417182\n",
      "id_54_58_74_104_107_128_v2.pdf\n",
      "precision: 0.9228670970848946 recall: 0.823708395429707\n",
      "id_54_58_74_104_107_128_v3.pdf\n",
      "precision: 0.8334104796142786 recall: 0.8651444758054846\n",
      "id_15_20_39_71_73_76_83_96_100_101_103_108_110_114.pdf\n",
      "precision: 0.8515250199784166 recall: 0.9410072693077088\n",
      "id_116_151.pdf\n",
      "precision: 0.87937870406182 recall: 0.9238689106215734\n",
      "id_163.pdf\n",
      "precision: 0.9669226776564068 recall: 0.9767135400363377\n",
      "id_65_127_141.pdf\n",
      "precision: 0.8359270417835204 recall: 0.9264758497316636\n",
      "id_85.pdf\n",
      "precision: 0.8522408963585434 recall: 0.9583333333333333\n",
      "id_61_63_77_142.pdf\n",
      "precision: 0.9449270516546144 recall: 0.8861475157933925\n",
      "id_90.pdf\n",
      "precision: 0.8864762218724438 recall: 0.9229770618892235\n",
      "id_158.pdf\n",
      "precision: 0.9185301204819277 recall: 0.873389694041868\n",
      "id_68.pdf\n",
      "precision: 0.8475499092558983 recall: 0.9387594532387618\n",
      "22-274.releasable.pdf\n",
      "precision: 0.9049175019054537 recall: 0.9588297469552597\n",
      "Investigations_Redacted.pdf\n",
      "precision: 0.8984126984126984 recall: 0.9521804511278196\n",
      "Invisible Institue Report.pdf\n",
      "precision: 0.7771236948849742 recall: 0.8720634920634922\n",
      "RptEmpRstrDetail Active.pdf\n",
      "precision: 0.9882758620689656 recall: 0.9952427500814597\n",
      "Active_Certifications.pdf\n",
      "precision: 0.913251155249436 recall: 0.9146978021978022\n",
      "Archived_Certifications.pdf\n",
      "precision: 0.9848484848484849 recall: 0.9977553310886643\n",
      "Active_Employment.pdf\n",
      "precision: 0.9957142857142858 recall: 1.0\n",
      "DecertifiedOfficersRev_9622 Emilie Munson.pdf\n",
      "precision: 0.9857142857142858 recall: 0.9857142857142858\n",
      "average precision: 0.89566901743263\n",
      "average recall: 0.9240175877127612\n"
     ]
    }
   ],
   "source": [
    "metrics = trix.eval('TRIX')"
   ]
  },
  {
   "cell_type": "code",
   "execution_count": 21,
   "id": "a0b32761",
   "metadata": {},
   "outputs": [
    {
     "name": "stdout",
     "output_type": "stream",
     "text": [
      "7 18 6\n",
      "Easy datasets: P|R 0.9517600199559146 0.9772473576582387\n",
      "Medium datasets: P|R 0.8912433307933293 0.9042521416009763\n",
      "Hard datasets: P|R 0.8435065744066995 0.921212527778391\n"
     ]
    }
   ],
   "source": [
    "trix.break_down_by_difficulties(metrics)\n",
    "\n"
   ]
  }
 ],
 "metadata": {
  "kernelspec": {
   "display_name": "base",
   "language": "python",
   "name": "python3"
  },
  "language_info": {
   "codemirror_mode": {
    "name": "ipython",
    "version": 3
   },
   "file_extension": ".py",
   "mimetype": "text/x-python",
   "name": "python",
   "nbconvert_exporter": "python",
   "pygments_lexer": "ipython3",
   "version": "3.9.7"
  }
 },
 "nbformat": 4,
 "nbformat_minor": 5
}
