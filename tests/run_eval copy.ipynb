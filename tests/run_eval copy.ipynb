{
 "cells": [
  {
   "cell_type": "code",
   "execution_count": 1,
   "id": "cea1348d",
   "metadata": {},
   "outputs": [],
   "source": [
    "import os\n",
    "import trix"
   ]
  },
  {
   "cell_type": "code",
   "execution_count": 2,
   "id": "5b21862c",
   "metadata": {},
   "outputs": [],
   "source": [
    "def scan_folder(path, filter_file_type = '.json'):\n",
    "    file_names = []\n",
    "    for root, dirs, files in os.walk(path):\n",
    "        for file in files:\n",
    "            file_name = os.path.join(root, file)\n",
    "            if('DS_Store' in file_name):\n",
    "                continue\n",
    "            if(filter_file_type not in file_name):\n",
    "                continue\n",
    "            file_names.append(file_name)\n",
    "    return file_names\n",
    "\n",
    "def get_truth_path(raw_path):\n",
    "    path = raw_path.replace('raw','truths')\n",
    "    path = path.replace('.pdf','.json')\n",
    "    return path\n",
    "\n",
    "def get_file_name(pdf_path):\n",
    "    pdf_file_name = pdf_path.split('/')[-1]\n",
    "    return pdf_file_name "
   ]
  },
  {
   "cell_type": "code",
   "execution_count": 3,
   "id": "14ab874e",
   "metadata": {},
   "outputs": [
    {
     "name": "stdout",
     "output_type": "stream",
     "text": [
      "id_18_28_45_48_51_57_60_70_72_79_81_89_91_92_94_95_97_99_102_105_113_117_118_119_122_125_131_132_137_139_150_v2.pdf\n"
     ]
    },
    {
     "ename": "FileNotFoundError",
     "evalue": "[Errno 2] No such file or directory: '/Users/yiminglin/Documents/Codebase/TRIX_Share/data/extracted/open_benchmark/id_18_28_45_48_51_57_60_70_72_79_81_89_91_92_94_95_97_99_102_105_113_117_118_119_122_125_131_132_137_139_150_v2.txt'",
     "output_type": "error",
     "traceback": [
      "\u001b[0;31m---------------------------------------------------------------------------\u001b[0m",
      "\u001b[0;31mFileNotFoundError\u001b[0m                         Traceback (most recent call last)",
      "Input \u001b[0;32mIn [3]\u001b[0m, in \u001b[0;36m<module>\u001b[0;34m\u001b[0m\n\u001b[1;32m     12\u001b[0m \u001b[38;5;28mprint\u001b[39m(get_file_name(pdf_path))\n\u001b[1;32m     14\u001b[0m \u001b[38;5;66;03m#predict fields\u001b[39;00m\n\u001b[0;32m---> 15\u001b[0m \u001b[43mtrix\u001b[49m\u001b[38;5;241;43m.\u001b[39;49m\u001b[43mkey_prediction\u001b[49m\u001b[43m(\u001b[49m\u001b[43mpdf_path\u001b[49m\u001b[43m)\u001b[49m\n\u001b[1;32m     16\u001b[0m \u001b[38;5;66;03m#predict the template and extract data\u001b[39;00m\n\u001b[1;32m     17\u001b[0m out_path \u001b[38;5;241m=\u001b[39m trix\u001b[38;5;241m.\u001b[39mget_key_val_path(pdf_path, \u001b[38;5;124m'\u001b[39m\u001b[38;5;124mTRIX\u001b[39m\u001b[38;5;124m'\u001b[39m)\n",
      "File \u001b[0;32m~/Documents/Codebase/Pdf_reverse_Share/trix/key.py:322\u001b[0m, in \u001b[0;36mkey_prediction\u001b[0;34m(pdf_path)\u001b[0m\n\u001b[1;32m    320\u001b[0m result_path \u001b[38;5;241m=\u001b[39m get_result_path(pdf_path)\n\u001b[1;32m    321\u001b[0m extracted_path \u001b[38;5;241m=\u001b[39m get_extracted_path(pdf_path)\n\u001b[0;32m--> 322\u001b[0m relative_locations \u001b[38;5;241m=\u001b[39m \u001b[43mget_relative_locations\u001b[49m\u001b[43m(\u001b[49m\u001b[43mpdf_path\u001b[49m\u001b[43m)\u001b[49m\n\u001b[1;32m    323\u001b[0m cans \u001b[38;5;241m=\u001b[39m load_candidate(pdf_path)\n\u001b[1;32m    325\u001b[0m phrases \u001b[38;5;241m=\u001b[39m relative_locations\n",
      "File \u001b[0;32m~/Documents/Codebase/Pdf_reverse_Share/trix/key.py:25\u001b[0m, in \u001b[0;36mget_relative_locations\u001b[0;34m(path)\u001b[0m\n\u001b[1;32m     23\u001b[0m line_number \u001b[38;5;241m=\u001b[39m \u001b[38;5;241m0\u001b[39m\n\u001b[1;32m     24\u001b[0m phrases \u001b[38;5;241m=\u001b[39m {}\n\u001b[0;32m---> 25\u001b[0m \u001b[38;5;28;01mwith\u001b[39;00m \u001b[38;5;28;43mopen\u001b[39;49m\u001b[43m(\u001b[49m\u001b[43mpath\u001b[49m\u001b[43m,\u001b[49m\u001b[43m \u001b[49m\u001b[38;5;124;43m'\u001b[39;49m\u001b[38;5;124;43mr\u001b[39;49m\u001b[38;5;124;43m'\u001b[39;49m\u001b[43m)\u001b[49m \u001b[38;5;28;01mas\u001b[39;00m file:\n\u001b[1;32m     26\u001b[0m     \u001b[38;5;66;03m# Iterate over each line in the file\u001b[39;00m\n\u001b[1;32m     27\u001b[0m     \u001b[38;5;28;01mfor\u001b[39;00m line \u001b[38;5;129;01min\u001b[39;00m file:\n\u001b[1;32m     28\u001b[0m         phrase \u001b[38;5;241m=\u001b[39m line\u001b[38;5;241m.\u001b[39mstrip()\n",
      "\u001b[0;31mFileNotFoundError\u001b[0m: [Errno 2] No such file or directory: '/Users/yiminglin/Documents/Codebase/TRIX_Share/data/extracted/open_benchmark/id_18_28_45_48_51_57_60_70_72_79_81_89_91_92_94_95_97_99_102_105_113_117_118_119_122_125_131_132_137_139_150_v2.txt'"
     ]
    }
   ],
   "source": [
    "root_path = os.path.abspath(os.path.dirname(os.getcwd()))\n",
    "pdf_folder_path = root_path + '/data/raw'\n",
    "pdfs = scan_folder(pdf_folder_path,'.pdf')\n",
    "\n",
    "for pdf_path in pdfs:\n",
    "    #if a dataset does not have ground truth, skip it\n",
    "    truth_path = get_truth_path(pdf_path)\n",
    "\n",
    "    if not os.path.exists(truth_path):\n",
    "        continue\n",
    "\n",
    "    print(get_file_name(pdf_path))\n",
    "\n",
    "    #predict fields\n",
    "    trix.key_prediction(pdf_path)\n",
    "    #predict the template and extract data\n",
    "    out_path = trix.get_key_val_path(pdf_path, 'TRIX')\n",
    "    trix.template_based_data_extraction(pdf_path, out_path)"
   ]
  },
  {
   "cell_type": "code",
   "execution_count": 5,
   "id": "ce930d36",
   "metadata": {},
   "outputs": [
    {
     "name": "stdout",
     "output_type": "stream",
     "text": [
      "id_18_28_45_48_51_57_60_70_72_79_81_89_91_92_94_95_97_99_102_105_113_117_118_119_122_125_131_132_137_139_150_v2.pdf\n",
      "precision: 0.813418153662056 recall: 0.9208504761445937\n",
      "id_157.pdf\n",
      "precision: 0.8714164965906319 recall: 0.9039273275875905\n",
      "id_143.pdf\n",
      "precision: 0.9671642727215706 recall: 0.907219512195122\n",
      "id_18_28_45_48_51_57_60_70_72_79_81_89_91_92_94_95_97_99_102_105_113_117_118_119_122_125_131_132_137_139_150_v1.pdf\n",
      "precision: 0.8491433829114198 recall: 0.9372461504391421\n",
      "id_88.pdf\n",
      "precision: 0.8828960989096273 recall: 0.9142123942123943\n",
      "id_59_87.pdf\n",
      "precision: 0.9492998617747109 recall: 0.9240243509111434\n",
      "id_152.pdf\n",
      "precision: 0.8491582491582492 recall: 0.8736462397573207\n",
      "id_14_42.pdf\n",
      "precision: 0.900216049382716 recall: 0.8939715567290238\n",
      "id_12.pdf\n",
      "precision: 0.8548418216356868 recall: 0.8954900013599701\n",
      "id_23_29.pdf\n",
      "precision: 0.8904524045304043 recall: 0.9620253164556962\n",
      "id_133.pdf\n",
      "precision: 0.9146808510638298 recall: 0.8714285714285714\n",
      "id_53_55_64_86.pdf\n",
      "precision: 0.8350387094692759 recall: 0.927493963417182\n",
      "id_54_58_74_104_107_128_v2.pdf\n",
      "precision: 0.9228670970848946 recall: 0.823708395429707\n",
      "id_54_58_74_104_107_128_v3.pdf\n",
      "precision: 0.8334104796142786 recall: 0.8651444758054846\n",
      "id_15_20_39_71_73_76_83_96_100_101_103_108_110_114.pdf\n",
      "precision: 0.8515250199784166 recall: 0.9410072693077088\n",
      "id_116_151.pdf\n",
      "precision: 0.87937870406182 recall: 0.9238689106215734\n",
      "id_163.pdf\n",
      "precision: 0.9669226776564068 recall: 0.9767135400363377\n",
      "id_65_127_141.pdf\n",
      "precision: 0.8359270417835204 recall: 0.9264758497316636\n",
      "id_85.pdf\n",
      "precision: 0.8522408963585434 recall: 0.9583333333333333\n",
      "id_61_63_77_142.pdf\n",
      "precision: 0.9449270516546144 recall: 0.8861475157933925\n",
      "id_90.pdf\n",
      "precision: 0.8864762218724438 recall: 0.9229770618892235\n",
      "id_158.pdf\n",
      "precision: 0.9185301204819277 recall: 0.873389694041868\n",
      "id_68.pdf\n",
      "precision: 0.8475499092558983 recall: 0.9387594532387618\n",
      "22-274.releasable.pdf\n",
      "precision: 0.9049175019054537 recall: 0.9588297469552597\n",
      "Investigations_Redacted.pdf\n",
      "precision: 0.8984126984126984 recall: 0.9521804511278196\n",
      "Invisible Institue Report.pdf\n",
      "precision: 0.44711059508012657 recall: 0.6052202864885792\n",
      "RptEmpRstrDetail Active.pdf\n",
      "precision: 0.9882758620689656 recall: 0.9952427500814597\n",
      "Active_Certifications.pdf\n",
      "precision: 0.913251155249436 recall: 0.9146978021978022\n",
      "Archived_Certifications.pdf\n",
      "precision: 0.9848484848484849 recall: 0.9977553310886643\n",
      "Active_Employment.pdf\n",
      "precision: 0.6812360825620191 recall: 0.8715748108851556\n",
      "DecertifiedOfficersRev_9622 Emilie Munson.pdf\n",
      "precision: 0.9957671957671957 recall: 0.8116890959282262\n",
      "average precision: 0.875203262822817\n",
      "average recall: 0.9056532785361219\n"
     ]
    }
   ],
   "source": [
    "trix.eval('TRIX')"
   ]
  }
 ],
 "metadata": {
  "kernelspec": {
   "display_name": "base",
   "language": "python",
   "name": "python3"
  },
  "language_info": {
   "codemirror_mode": {
    "name": "ipython",
    "version": 3
   },
   "file_extension": ".py",
   "mimetype": "text/x-python",
   "name": "python",
   "nbconvert_exporter": "python",
   "pygments_lexer": "ipython3",
   "version": "3.9.7"
  }
 },
 "nbformat": 4,
 "nbformat_minor": 5
}
